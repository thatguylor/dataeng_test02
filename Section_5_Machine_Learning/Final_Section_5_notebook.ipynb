{
 "cells": [
  {
   "cell_type": "code",
   "execution_count": 17,
   "metadata": {},
   "outputs": [],
   "source": [
    "import pandas as pd \n",
    "import numpy as np \n",
    "import matplotlib \n",
    "import matplotlib.pyplot as plt \n",
    "from sklearn import metrics "
   ]
  },
  {
   "cell_type": "markdown",
   "metadata": {},
   "source": [
    "## Section 5 Final Notebook - Categorical Machine Learning Using Car Evaluation Dataset"
   ]
  },
  {
   "cell_type": "code",
   "execution_count": 18,
   "metadata": {},
   "outputs": [
    {
     "data": {
      "text/html": [
       "<div>\n",
       "<style scoped>\n",
       "    .dataframe tbody tr th:only-of-type {\n",
       "        vertical-align: middle;\n",
       "    }\n",
       "\n",
       "    .dataframe tbody tr th {\n",
       "        vertical-align: top;\n",
       "    }\n",
       "\n",
       "    .dataframe thead th {\n",
       "        text-align: right;\n",
       "    }\n",
       "</style>\n",
       "<table border=\"1\" class=\"dataframe\">\n",
       "  <thead>\n",
       "    <tr style=\"text-align: right;\">\n",
       "      <th></th>\n",
       "      <th>buying_price</th>\n",
       "      <th>maintenance_price</th>\n",
       "      <th>no_of_doors</th>\n",
       "      <th>no_of_person</th>\n",
       "      <th>lug_boot</th>\n",
       "      <th>safety</th>\n",
       "      <th>decision</th>\n",
       "    </tr>\n",
       "  </thead>\n",
       "  <tbody>\n",
       "    <tr>\n",
       "      <th>0</th>\n",
       "      <td>vhigh</td>\n",
       "      <td>vhigh</td>\n",
       "      <td>2</td>\n",
       "      <td>2</td>\n",
       "      <td>small</td>\n",
       "      <td>low</td>\n",
       "      <td>unacc</td>\n",
       "    </tr>\n",
       "    <tr>\n",
       "      <th>1</th>\n",
       "      <td>vhigh</td>\n",
       "      <td>vhigh</td>\n",
       "      <td>2</td>\n",
       "      <td>2</td>\n",
       "      <td>small</td>\n",
       "      <td>med</td>\n",
       "      <td>unacc</td>\n",
       "    </tr>\n",
       "    <tr>\n",
       "      <th>2</th>\n",
       "      <td>vhigh</td>\n",
       "      <td>vhigh</td>\n",
       "      <td>2</td>\n",
       "      <td>2</td>\n",
       "      <td>small</td>\n",
       "      <td>high</td>\n",
       "      <td>unacc</td>\n",
       "    </tr>\n",
       "    <tr>\n",
       "      <th>3</th>\n",
       "      <td>vhigh</td>\n",
       "      <td>vhigh</td>\n",
       "      <td>2</td>\n",
       "      <td>2</td>\n",
       "      <td>med</td>\n",
       "      <td>low</td>\n",
       "      <td>unacc</td>\n",
       "    </tr>\n",
       "    <tr>\n",
       "      <th>4</th>\n",
       "      <td>vhigh</td>\n",
       "      <td>vhigh</td>\n",
       "      <td>2</td>\n",
       "      <td>2</td>\n",
       "      <td>med</td>\n",
       "      <td>med</td>\n",
       "      <td>unacc</td>\n",
       "    </tr>\n",
       "    <tr>\n",
       "      <th>...</th>\n",
       "      <td>...</td>\n",
       "      <td>...</td>\n",
       "      <td>...</td>\n",
       "      <td>...</td>\n",
       "      <td>...</td>\n",
       "      <td>...</td>\n",
       "      <td>...</td>\n",
       "    </tr>\n",
       "    <tr>\n",
       "      <th>1723</th>\n",
       "      <td>low</td>\n",
       "      <td>low</td>\n",
       "      <td>5more</td>\n",
       "      <td>more</td>\n",
       "      <td>med</td>\n",
       "      <td>med</td>\n",
       "      <td>good</td>\n",
       "    </tr>\n",
       "    <tr>\n",
       "      <th>1724</th>\n",
       "      <td>low</td>\n",
       "      <td>low</td>\n",
       "      <td>5more</td>\n",
       "      <td>more</td>\n",
       "      <td>med</td>\n",
       "      <td>high</td>\n",
       "      <td>vgood</td>\n",
       "    </tr>\n",
       "    <tr>\n",
       "      <th>1725</th>\n",
       "      <td>low</td>\n",
       "      <td>low</td>\n",
       "      <td>5more</td>\n",
       "      <td>more</td>\n",
       "      <td>big</td>\n",
       "      <td>low</td>\n",
       "      <td>unacc</td>\n",
       "    </tr>\n",
       "    <tr>\n",
       "      <th>1726</th>\n",
       "      <td>low</td>\n",
       "      <td>low</td>\n",
       "      <td>5more</td>\n",
       "      <td>more</td>\n",
       "      <td>big</td>\n",
       "      <td>med</td>\n",
       "      <td>good</td>\n",
       "    </tr>\n",
       "    <tr>\n",
       "      <th>1727</th>\n",
       "      <td>low</td>\n",
       "      <td>low</td>\n",
       "      <td>5more</td>\n",
       "      <td>more</td>\n",
       "      <td>big</td>\n",
       "      <td>high</td>\n",
       "      <td>vgood</td>\n",
       "    </tr>\n",
       "  </tbody>\n",
       "</table>\n",
       "<p>1728 rows × 7 columns</p>\n",
       "</div>"
      ],
      "text/plain": [
       "     buying_price maintenance_price no_of_doors no_of_person lug_boot safety  \\\n",
       "0           vhigh             vhigh           2            2    small    low   \n",
       "1           vhigh             vhigh           2            2    small    med   \n",
       "2           vhigh             vhigh           2            2    small   high   \n",
       "3           vhigh             vhigh           2            2      med    low   \n",
       "4           vhigh             vhigh           2            2      med    med   \n",
       "...           ...               ...         ...          ...      ...    ...   \n",
       "1723          low               low       5more         more      med    med   \n",
       "1724          low               low       5more         more      med   high   \n",
       "1725          low               low       5more         more      big    low   \n",
       "1726          low               low       5more         more      big    med   \n",
       "1727          low               low       5more         more      big   high   \n",
       "\n",
       "     decision  \n",
       "0       unacc  \n",
       "1       unacc  \n",
       "2       unacc  \n",
       "3       unacc  \n",
       "4       unacc  \n",
       "...       ...  \n",
       "1723     good  \n",
       "1724    vgood  \n",
       "1725    unacc  \n",
       "1726     good  \n",
       "1727    vgood  \n",
       "\n",
       "[1728 rows x 7 columns]"
      ]
     },
     "execution_count": 18,
     "metadata": {},
     "output_type": "execute_result"
    }
   ],
   "source": [
    "#Reading the dataset - Just making sure there are no unexpected errors here\n",
    "df = pd.read_csv(r'C:\\Users\\yaoz\\Desktop\\dataeng_test\\Section_5_Machine_Learning\\data\\car.data',header = None,names = ['buying_price', 'maintenance_price','no_of_doors','no_of_person','lug_boot','safety','decision']) #Change your file path here\n",
    "df"
   ]
  },
  {
   "cell_type": "markdown",
   "metadata": {},
   "source": [
    "<h4> Initial EDA - Explaratory Data Analysis: Here i just want to see the size and variables of the data and also to check there are no missing fields </h4>\n",
    "\n",
    "- So, we have 1728 datapoints with 6 columns (features) and 1 class label(target) column.\n",
    "- Data set contains categorical features.\n",
    "- There are no missing value in the dataset."
   ]
  },
  {
   "cell_type": "code",
   "execution_count": 19,
   "metadata": {},
   "outputs": [
    {
     "name": "stdout",
     "output_type": "stream",
     "text": [
      "(1728, 7)\n",
      "<class 'pandas.core.frame.DataFrame'>\n",
      "RangeIndex: 1728 entries, 0 to 1727\n",
      "Data columns (total 7 columns):\n",
      " #   Column             Non-Null Count  Dtype \n",
      "---  ------             --------------  ----- \n",
      " 0   buying_price       1728 non-null   object\n",
      " 1   maintenance_price  1728 non-null   object\n",
      " 2   no_of_doors        1728 non-null   object\n",
      " 3   no_of_person       1728 non-null   object\n",
      " 4   lug_boot           1728 non-null   object\n",
      " 5   safety             1728 non-null   object\n",
      " 6   decision           1728 non-null   object\n",
      "dtypes: object(7)\n",
      "memory usage: 94.6+ KB\n",
      "\n",
      " None\n",
      "\n",
      " buying_price         0\n",
      "maintenance_price    0\n",
      "no_of_doors          0\n",
      "no_of_person         0\n",
      "lug_boot             0\n",
      "safety               0\n",
      "decision             0\n",
      "dtype: int64\n"
     ]
    }
   ],
   "source": [
    "#lets explore the given dataset\n",
    "print(df.shape)\n",
    "\n",
    "print('\\n',df.info())\n",
    "\n",
    "#checking for any missing value in the given dataset\n",
    "print('\\n',df.isnull().sum())"
   ]
  },
  {
   "cell_type": "code",
   "execution_count": 20,
   "metadata": {},
   "outputs": [
    {
     "data": {
      "text/plain": [
       "med      432\n",
       "low      432\n",
       "vhigh    432\n",
       "high     432\n",
       "Name: buying_price, dtype: int64"
      ]
     },
     "execution_count": 20,
     "metadata": {},
     "output_type": "execute_result"
    }
   ],
   "source": [
    "df.buying_price.value_counts()\n"
   ]
  },
  {
   "cell_type": "markdown",
   "metadata": {},
   "source": [
    "We must take note that in this use case the target variable is swapped and is not the last column 'decision', rather in this example we use buying price as the target variable. At first glance it seems our tgt variable is evenly split amongst all categories - This is bad! This could mean the dataset cannot sufficiently account for variation in our target column. \n",
    "\n",
    "* Note: In the intermediate notebook, i explore the original target var of 'decision' instead.\n"
   ]
  },
  {
   "cell_type": "code",
   "execution_count": 21,
   "metadata": {},
   "outputs": [
    {
     "name": "stdout",
     "output_type": "stream",
     "text": [
      "(1728, 5) (1728,)\n"
     ]
    }
   ],
   "source": [
    "#Segregating datasets into features and target datasets \n",
    "\n",
    "#dropping first column(target label) and selecting rest, dropping no_of_person as well as this is not a factor in our final model\n",
    "X=df.drop(['buying_price','no_of_person'],axis=1)\n",
    "\n",
    "#selecting only target variable\n",
    "Y=df['buying_price']\n",
    "\n",
    "print(X.shape,Y.shape)"
   ]
  },
  {
   "cell_type": "markdown",
   "metadata": {},
   "source": [
    "<h3>Feature engineering</h3>\n",
    "As the dataset has categorical features and hence they needs to be encoded in the appropriate form. There are two main method of encoding:\n",
    "\n",
    "* One hot encoding\n",
    "* Categorical encoding \n",
    "\n",
    "\n",
    "As we have categorial features that are ordinal in nature i.e that can be ranked (ordered) hence label encoding will solve our purpose.Had there been nominal features we could have preferred one hot encoding."
   ]
  },
  {
   "cell_type": "code",
   "execution_count": 22,
   "metadata": {},
   "outputs": [
    {
     "name": "stdout",
     "output_type": "stream",
     "text": [
      "   maintenance_price  no_of_doors  lug_boot  safety  decision\n",
      "0                  1            1         1       1         1\n",
      "1                  1            1         1       2         1\n",
      "2                  1            1         1       3         1\n",
      "3                  1            1         2       1         1\n",
      "4                  1            1         2       2         1\n",
      "(1728, 5)\n"
     ]
    }
   ],
   "source": [
    "# importing necessary package for encoding our categorial features\n",
    "import category_encoders as ce\n",
    "\n",
    "encoder = ce.OrdinalEncoder(cols=['maintenance_price','no_of_doors','lug_boot','safety','decision'])\n",
    "x= encoder.fit_transform(X)\n",
    "\n",
    "print(x.head())\n",
    "print(x.shape)"
   ]
  },
  {
   "cell_type": "code",
   "execution_count": 23,
   "metadata": {},
   "outputs": [
    {
     "name": "stdout",
     "output_type": "stream",
     "text": [
      "Original dataset\n",
      "\n",
      "\n",
      "   maintenance_price no_of_doors lug_boot safety decision\n",
      "0             vhigh           2    small    low    unacc\n",
      "1             vhigh           2    small    med    unacc\n",
      "2             vhigh           2    small   high    unacc\n",
      "3             vhigh           2      med    low    unacc\n",
      "4             vhigh           2      med    med    unacc\n",
      "\n",
      " Encoded dataset\n",
      "\n",
      "    maintenance_price  no_of_doors  lug_boot  safety  decision\n",
      "0                  1            1         1       1         1\n",
      "1                  1            1         1       2         1\n",
      "2                  1            1         1       3         1\n",
      "3                  1            1         2       1         1\n",
      "4                  1            1         2       2         1\n"
     ]
    }
   ],
   "source": [
    "print('Original dataset')\n",
    "print('\\n\\n',X.head())\n",
    "print('\\n Encoded dataset')\n",
    "print('\\n',x.head())"
   ]
  },
  {
   "cell_type": "markdown",
   "metadata": {},
   "source": [
    "Comparing labels after encoding and before encoding in the above cell\n",
    "\n",
    "<h3> Below we split our dataset using train_test_split into Training Dataset, Test and Cross Validation </h3>"
   ]
  },
  {
   "cell_type": "code",
   "execution_count": 24,
   "metadata": {},
   "outputs": [
    {
     "name": "stdout",
     "output_type": "stream",
     "text": [
      "Training Dataset (846, 5) (846,)\n",
      "\n",
      " Class label distribution in Training Set\n",
      " high     223\n",
      "vhigh    216\n",
      "low      204\n",
      "med      203\n",
      "Name: buying_price, dtype: int64\n",
      "\n",
      "***********\n",
      "\n",
      " CrossValidation Dataset (363, 5) (363,)\n",
      "\n",
      "Class label distribution in Cross Validation Set\n",
      " med      106\n",
      "low       88\n",
      "vhigh     88\n",
      "high      81\n",
      "Name: buying_price, dtype: int64\n",
      "\n",
      "***********\n",
      "\n",
      " Test Dataset (519, 5) (519,)\n",
      "\n",
      "Class label distribution in Test Set\n",
      " low      140\n",
      "high     128\n",
      "vhigh    128\n",
      "med      123\n",
      "Name: buying_price, dtype: int64\n"
     ]
    }
   ],
   "source": [
    "#importing necessary packages and modules\n",
    "from sklearn.model_selection import train_test_split\n",
    "\n",
    "x_1,xtest,y_1,ytest=train_test_split(x,Y,test_size=0.3,random_state=2)\n",
    "\n",
    "xtrain,x_cv,ytrain,y_cv=train_test_split(x_1,y_1,test_size=0.3,random_state=2)\n",
    "\n",
    "\n",
    "# Exploring class distribution under train ,crossvalidation and test dataset\n",
    "print('Training Dataset',xtrain.shape,ytrain.shape)\n",
    "print('\\n Class label distribution in Training Set\\n',ytrain.value_counts())\n",
    "print('\\n***********')\n",
    "print(\"\\n CrossValidation Dataset\",x_cv.shape,y_cv.shape)\n",
    "print('\\nClass label distribution in Cross Validation Set\\n',y_cv.value_counts())\n",
    "print('\\n***********')\n",
    "print(\"\\n Test Dataset\",xtest.shape,ytest.shape)\n",
    "print('\\nClass label distribution in Test Set\\n',ytest.value_counts())"
   ]
  },
  {
   "cell_type": "code",
   "execution_count": 25,
   "metadata": {},
   "outputs": [],
   "source": [
    "# importing necessary packages\n",
    "from sklearn.metrics import accuracy_score,confusion_matrix,classification_report\n",
    "from sklearn.tree import DecisionTreeClassifier\n",
    "from sklearn.metrics import plot_confusion_matrix\n",
    "import matplotlib.pyplot as plt\n",
    "from sklearn import tree"
   ]
  },
  {
   "cell_type": "markdown",
   "metadata": {},
   "source": [
    "<h3>Below we use grid search for optimizing parameters on our decision tree model and check for classification accuracy on cross validation dataset </h3>"
   ]
  },
  {
   "cell_type": "code",
   "execution_count": 26,
   "metadata": {},
   "outputs": [
    {
     "name": "stdout",
     "output_type": "stream",
     "text": [
      "DecisionTreeClassifier(ccp_alpha=0.0, class_weight='balanced', criterion='gini',\n",
      "                       max_depth=5, max_features=None, max_leaf_nodes=None,\n",
      "                       min_impurity_decrease=0.0, min_impurity_split=None,\n",
      "                       min_samples_leaf=45, min_samples_split=5,\n",
      "                       min_weight_fraction_leaf=0.0, presort='deprecated',\n",
      "                       random_state=None, splitter='best')\n",
      "\n",
      " {'max_depth': 5, 'min_samples_leaf': 45, 'min_samples_split': 5}\n",
      "\n",
      " 0.31955922865013775\n",
      "\n",
      "\n",
      " classification report\n",
      "              precision    recall  f1-score   support\n",
      "\n",
      "        high       0.30      0.20      0.24        81\n",
      "         low       0.45      0.19      0.27        88\n",
      "         med       0.36      0.39      0.37       106\n",
      "       vhigh       0.27      0.48      0.34        88\n",
      "\n",
      "    accuracy                           0.32       363\n",
      "   macro avg       0.34      0.31      0.31       363\n",
      "weighted avg       0.34      0.32      0.31       363\n",
      "\n"
     ]
    }
   ],
   "source": [
    "from sklearn.model_selection import GridSearchCV\n",
    "\n",
    "parameters={'max_depth': list(range(1,30)),\n",
    "            'min_samples_leaf' : list(range(5,200,20)),\n",
    "            'min_samples_split': list(range(5,200,20))\n",
    "            }\n",
    "model=GridSearchCV(DecisionTreeClassifier(class_weight='balanced'),parameters,n_jobs=-1,cv=10,scoring='accuracy')\n",
    "model.fit(xtrain,ytrain)\n",
    "print(model.best_estimator_)\n",
    "print(\"\\n\",model.best_params_)\n",
    "print(\"\\n\",model.score(x_cv,y_cv))\n",
    "\n",
    "ypredict=model.predict(x_cv)\n",
    "accuracy=accuracy_score(y_cv,ypredict,normalize=True)*float(100)\n",
    "print('\\n\\n classification report')\n",
    "print(classification_report(y_cv,ypredict))"
   ]
  },
  {
   "cell_type": "markdown",
   "metadata": {},
   "source": [
    "\n",
    "Testing model accuracy on Unseen Data (Test Dataset)\n",
    "Using optimal value of hyper parameters that we got via Grid search, predicting the class labels for the test dataset and getting its classification report "
   ]
  },
  {
   "cell_type": "code",
   "execution_count": 27,
   "metadata": {},
   "outputs": [
    {
     "name": "stdout",
     "output_type": "stream",
     "text": [
      "\n",
      " Accuracy score is 29.09441233140655\n",
      "\n",
      " classification report\n",
      "              precision    recall  f1-score   support\n",
      "\n",
      "        high       0.23      0.11      0.15       128\n",
      "         low       0.40      0.20      0.27       140\n",
      "         med       0.27      0.38      0.32       123\n",
      "       vhigh       0.29      0.48      0.36       128\n",
      "\n",
      "    accuracy                           0.29       519\n",
      "   macro avg       0.30      0.29      0.27       519\n",
      "weighted avg       0.30      0.29      0.27       519\n",
      "\n"
     ]
    }
   ],
   "source": [
    "clf=tree.DecisionTreeClassifier(ccp_alpha=0.0, class_weight='balanced', criterion='gini',\n",
    "                       max_depth=5, max_features=None, max_leaf_nodes=None,\n",
    "                       min_impurity_decrease=0.0, min_impurity_split=None,\n",
    "                       min_samples_leaf=45, min_samples_split=5,\n",
    "                       min_weight_fraction_leaf=0.0, presort='deprecated',\n",
    "                       random_state=None, splitter='best')\n",
    "clf.fit(xtrain,ytrain)\n",
    "ypredict=clf.predict(xtest)\n",
    "accuracy=accuracy_score(ytest,ypredict,normalize=True)*float(100)\n",
    "print('\\n Accuracy score is',accuracy)\n",
    "print('\\n classification report')\n",
    "print(classification_report(ytest,ypredict))\n"
   ]
  },
  {
   "cell_type": "markdown",
   "metadata": {},
   "source": [
    "<h3>Accuracy Score</h3>\n",
    "Model Accuracy on Training dataset= 32% , Model Accuracy on Test Dataset=29%\n",
    "Thus the present model has shown consistant results on both Training and Test Datasets, however because of the low accuracy of both, cannot be considered a generalized model\n",
    "\n",
    "<h3>Classification Report</h3>\n",
    "It is advisable to not just rely on accuracy score as accuracy score sometimes doesnot tell the true picture related to the model, especially in the case of imbalanced dataset. Classification Report is an efective metric that makes us doubly sure regarding the performance of our model.\n",
    "The classification report above should be compared to the intermediate example to compare the difference in accuracy. Personally i believe it is possibly due to the even split of target labels which suggest the wrong target variable is used as the dataset does not account for variation in buying price."
   ]
  },
  {
   "cell_type": "code",
   "execution_count": 28,
   "metadata": {},
   "outputs": [
    {
     "data": {
      "text/plain": [
       "[Text(597.8571428571429, 830.5, 'safety <= 2.5\\ngini = 0.75\\nsamples = 846\\nvalue = [211.5, 211.5, 211.5, 211.5]\\nclass = low'),\n",
       " Text(531.4285714285714, 679.5, 'safety <= 1.5\\ngini = 0.747\\nsamples = 770\\nvalue = [211.5, 159.662, 184.411, 211.5]\\nclass = low'),\n",
       " Text(332.14285714285717, 528.5, 'lug_boot <= 1.5\\ngini = 0.743\\nsamples = 585\\nvalue = [152.697, 118.191, 130.234, 181.146]\\nclass =  vhigh'),\n",
       " Text(132.85714285714286, 377.5, 'no_of_person <= 1.5\\ngini = 0.749\\nsamples = 284\\nvalue = [63.545, 71.537, 71.889, 77.354]\\nclass =  vhigh'),\n",
       " Text(66.42857142857143, 226.5, 'gini = 0.737\\nsamples = 88\\nvalue = [18.02, 18.662, 20.837, 30.354]\\nclass =  vhigh'),\n",
       " Text(199.28571428571428, 226.5, 'maintenance_price <= 3.5\\ngini = 0.749\\nsamples = 196\\nvalue = [45.525, 52.875, 51.052, 47.0]\\nclass = high'),\n",
       " Text(132.85714285714286, 75.5, 'gini = 0.748\\nsamples = 150\\nvalue = [33.195, 38.36, 41.675, 37.208]\\nclass = med'),\n",
       " Text(265.7142857142857, 75.5, 'gini = 0.742\\nsamples = 46\\nvalue = [12.33, 14.515, 9.377, 9.792]\\nclass = high'),\n",
       " Text(531.4285714285714, 377.5, 'maintenance_price <= 3.5\\ngini = 0.726\\nsamples = 301\\nvalue = [89.152, 46.654, 58.345, 103.792]\\nclass =  vhigh'),\n",
       " Text(465.0, 226.5, 'lug_boot <= 2.5\\ngini = 0.72\\nsamples = 243\\nvalue = [67.339, 38.36, 43.759, 91.063]\\nclass =  vhigh'),\n",
       " Text(398.57142857142856, 75.5, 'gini = 0.725\\nsamples = 135\\nvalue = [36.989, 18.662, 30.214, 47.979]\\nclass =  vhigh'),\n",
       " Text(531.4285714285714, 75.5, 'gini = 0.706\\nsamples = 108\\nvalue = [30.35, 19.699, 13.544, 43.083]\\nclass =  vhigh'),\n",
       " Text(597.8571428571429, 226.5, 'gini = 0.721\\nsamples = 58\\nvalue = [21.814, 8.294, 14.586, 12.729]\\nclass = low'),\n",
       " Text(730.7142857142858, 528.5, 'maintenance_price <= 2.5\\ngini = 0.735\\nsamples = 185\\nvalue = [58.803, 41.471, 54.177, 30.354]\\nclass = low'),\n",
       " Text(664.2857142857143, 377.5, 'gini = 0.65\\nsamples = 80\\nvalue = [18.969, 29.029, 33.34, 0.0]\\nclass = med'),\n",
       " Text(797.1428571428571, 377.5, 'lug_boot <= 2.5\\ngini = 0.711\\nsamples = 105\\nvalue = [39.834, 12.441, 20.837, 30.354]\\nclass = low'),\n",
       " Text(730.7142857142858, 226.5, 'gini = 0.738\\nsamples = 52\\nvalue = [12.33, 12.441, 17.712, 9.792]\\nclass = med'),\n",
       " Text(863.5714285714286, 226.5, 'gini = 0.546\\nsamples = 53\\nvalue = [27.504, 0.0, 3.126, 20.562]\\nclass = low'),\n",
       " Text(664.2857142857143, 679.5, 'gini = 0.451\\nsamples = 76\\nvalue = [0.0, 51.838, 27.089, 0.0]\\nclass = high')]"
      ]
     },
     "execution_count": 28,
     "metadata": {},
     "output_type": "execute_result"
    },
    {
     "data": {
      "image/png": "[encoded data removed]",
      "text/plain": [
       "<Figure size 1200x1200 with 1 Axes>"
      ]
     },
     "metadata": {
      "needs_background": "light"
     },
     "output_type": "display_data"
    }
   ],
   "source": [
    "# Visualising Decision Tree\n",
    "cols=['maintenance_price','no_of_doors','no_of_person','lug_boot','safety','decision']\n",
    "trgt=['low','high','med',' vhigh']\n",
    "\n",
    "fig, axes = plt.subplots(nrows = 1,ncols = 1,figsize = (4,4), dpi=300)\n",
    "tree.plot_tree(clf,feature_names = cols, class_names=trgt,filled = True)"
   ]
  },
  {
   "cell_type": "markdown",
   "metadata": {},
   "source": [
    "<h3> In the above we visualize the decision tree plot </h3>\n",
    "<h3> Prediction - This Model was trained on Buying_price as target variablee: Now lets test on the filtered sample specifications! </h3>"
   ]
  },
  {
   "cell_type": "code",
   "execution_count": 29,
   "metadata": {},
   "outputs": [
    {
     "name": "stdout",
     "output_type": "stream",
     "text": [
      "1475    low\n",
      "1484    low\n",
      "Name: buying_price, dtype: object\n"
     ]
    }
   ],
   "source": [
    "filter = df['maintenance_price'] == 'high'\n",
    "filter1 = df['no_of_doors'] == '4'\n",
    "filter2 = df['lug_boot'] == 'big'\n",
    "filter3= df['safety'] == 'high'\n",
    "filter4 = df['decision'] == 'good'\n",
    "filter5 = df['decision'] == 'vgood'\n",
    "\n",
    "\n",
    "#We must exclude the last feature as the last variable is a missing factor \n",
    "\n",
    "filtereddata = df.where(filter& filter1 & filter2&filter3&filter5) \n",
    "filtereddata.dropna(inplace = True)\n",
    "\n",
    "filterencoder = ce.OrdinalEncoder(cols = ['buying_price','maintenance_price','no_of_doors','no_of_person','lug_boot','safety','decision'])\n",
    "unseen = filterencoder.fit_transform(filtereddata)\n",
    "\n",
    "print(filtereddata['buying_price'])"
   ]
  },
  {
   "cell_type": "code",
   "execution_count": 30,
   "metadata": {},
   "outputs": [
    {
     "name": "stdout",
     "output_type": "stream",
     "text": [
      "['vhigh' 'vhigh']\n"
     ]
    }
   ],
   "source": [
    "unseen.drop(['buying_price','no_of_doors'],axis =1,inplace=True)\n",
    "\n",
    "print(clf.predict(unseen))"
   ]
  },
  {
   "cell_type": "code",
   "execution_count": 32,
   "metadata": {},
   "outputs": [
    {
     "name": "stdout",
     "output_type": "stream",
     "text": [
      "Accuracy: 0.2909441233140655\n"
     ]
    }
   ],
   "source": [
    "print(\"Accuracy:\",metrics.accuracy_score(ytest, ypredict))"
   ]
  },
  {
   "cell_type": "markdown",
   "metadata": {},
   "source": [
    "<h3> Conclusion: This model was not trained very well as the model predicted a buying price of vhigh and vhigh when the correct labels were both low , when given the same input as well. This can be observed in the low accuracy as well from the earlier analysis. We can see after filtering the dataset to the specifications with some modifcations, the correct label is 'low' for both however our model has incorrectly predicted 'vhigh' for both.</h3>"
   ]
  }
 ],
 "metadata": {
  "interpreter": {
   "hash": "27001c45e30a7271070c1933c38c41a72ff7eb13cb5faa629632ea6b5ee42ca9"
  },
  "kernelspec": {
   "display_name": "Python 3.7.6 64-bit ('losstreemigration': conda)",
   "language": "python",
   "name": "python3"
  },
  "language_info": {
   "codemirror_mode": {
    "name": "ipython",
    "version": 3
   },
   "file_extension": ".py",
   "mimetype": "text/x-python",
   "name": "python",
   "nbconvert_exporter": "python",
   "pygments_lexer": "ipython3",
   "version": "3.6.10"
  },
  "orig_nbformat": 4
 },
 "nbformat": 4,
 "nbformat_minor": 2
}
